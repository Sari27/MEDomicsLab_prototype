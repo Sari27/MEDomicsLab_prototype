{
 "cells": [
  {
   "cell_type": "markdown",
   "metadata": {
    "collapsed": true,
    "pycharm": {
     "name": "#%% md\n"
    }
   },
   "source": [
    "# Extraction Module\n",
    "\n",
    "The objective of this module is to extract embeddings from multimodal data, including:\n",
    "\n",
    "- Medical images in *dicom* format.\n",
    "- Text notes.\n",
    "- Time series events.\n",
    "\n",
    "In this section, we showcase the functionalities of the extraction module using only CSV files to generate note and time series embeddings from the MIMIC dataset. Our work is inspired by the HAIM study.\n",
    "\n",
    "The following CSV files are required for this notebook and should be placed under the *csv/original_data/* folder:\n",
    "\n",
    "- For patient linkage:\n",
    "    - *admissions.csv*\n",
    "- For note embeddings extraction:\n",
    "    - *radiology.csv*\n",
    "- For time series embeddings extraction:\n",
    "    - *chartevents.csv*\n",
    "    - *d_items.csv*\n",
    "    - *d_labitems.csv*\n",
    "    - *labevents.csv*\n",
    "    - *procedureevents.csv*\n",
    "\n",
    "To limit computational time, we have chosen to demonstrate our work using a subset of only a thousand patients."
   ]
  },
  {
   "cell_type": "code",
   "execution_count": 1,
   "metadata": {
    "pycharm": {
     "is_executing": true,
     "name": "#%%\n"
    }
   },
   "outputs": [],
   "source": [
    "# Imports\n",
    "\n",
    "import dask.dataframe as dd\n",
    "import datetime\n",
    "import numpy as np\n",
    "import os\n",
    "import pandas as pd\n",
    "\n",
    "os.chdir('../src')\n",
    "import extraction\n",
    "from patient_list import PATIENT_LIST"
   ]
  },
  {
   "cell_type": "markdown",
   "metadata": {
    "pycharm": {
     "name": "#%% md\n"
    }
   },
   "source": [
    "## Get data from original CSV files"
   ]
  },
  {
   "cell_type": "code",
   "execution_count": 2,
   "metadata": {
    "pycharm": {
     "name": "#%%\n"
    }
   },
   "outputs": [],
   "source": [
    "# Set the working directory\n",
    "os.chdir('../csv')"
   ]
  },
  {
   "cell_type": "code",
   "execution_count": 3,
   "metadata": {
    "pycharm": {
     "name": "#%%\n"
    }
   },
   "outputs": [],
   "source": [
    "# Read CSV data from original data\n",
    "df_admissions = dd.read_csv('original_data/admissions.csv', assume_missing=True, dtype={'admission_location': 'object', 'deathtime': 'object', 'edouttime': 'object','edregtime': 'object'})\n",
    "df_chart_events = dd.read_csv('original_data/chartevents.csv', assume_missing=True, low_memory=False, dtype={'value': 'object', 'valueuom': 'object'})\n",
    "df_items = pd.read_csv('original_data/d_items.csv')\n",
    "df_labitems = pd.read_csv('original_data/d_labitems.csv')\n",
    "df_lab_events = dd.read_csv('original_data/labevents.csv', assume_missing=True, low_memory=False, dtype={'storetime': 'object', 'value': 'object', 'valueuom': 'object', 'flag': 'object', 'priority': 'object', 'comments': 'object'})\n",
    "df_procedure_events = dd.read_csv('original_data/procedureevents.csv', assume_missing=True, dtype={'value': 'object', 'secondaryordercategoryname': 'object', 'totalamountuom': 'object'})\n",
    "df_rad_notes = dd.from_pandas(pd.read_csv('original_data/radiology.csv', dtype={'charttime': 'object', 'storetime': 'object', 'text': 'object'}), chunksize=8)"
   ]
  },
  {
   "cell_type": "code",
   "execution_count": 4,
   "metadata": {
    "pycharm": {
     "name": "#%%\n"
    }
   },
   "outputs": [],
   "source": [
    "# This cell is here in order to reduce computation time and doesn't illustrate the Extraction module functionalities\n",
    "\n",
    "# Filter data according to patient list\n",
    "df_admissions = extraction.filter_dataframe_by_patient(df_admissions, 'subject_id', PATIENT_LIST)\n",
    "df_chart_events = extraction.filter_dataframe_by_patient(df_chart_events, 'subject_id', PATIENT_LIST)\n",
    "df_lab_events = extraction.filter_dataframe_by_patient(df_lab_events, 'subject_id', PATIENT_LIST)\n",
    "df_procedure_events = extraction.filter_dataframe_by_patient(df_procedure_events, 'subject_id', PATIENT_LIST)\n",
    "df_rad_notes = extraction.filter_dataframe_by_patient(df_rad_notes, 'subject_id', PATIENT_LIST)"
   ]
  },
  {
   "cell_type": "markdown",
   "metadata": {
    "pycharm": {
     "name": "#%% md\n"
    }
   },
   "source": [
    "## Prepare data"
   ]
  },
  {
   "cell_type": "code",
   "execution_count": 5,
   "metadata": {
    "pycharm": {
     "name": "#%%\n"
    }
   },
   "outputs": [],
   "source": [
    "# Convert CSV columns types\n",
    "extraction.convert_df_time_column_to_format(df_admissions, 'admittime', format=\"%Y-%m-%d %H:%M:%S\")\n",
    "extraction.convert_df_time_column_to_format(df_chart_events, 'charttime', format=\"%Y-%m-%d %H:%M:%S\")\n",
    "extraction.convert_df_time_column_to_format(df_lab_events, 'charttime', format=\"%Y-%m-%d %H:%M:%S\")\n",
    "extraction.convert_df_time_column_to_format(df_procedure_events, 'starttime', format=\"%Y-%m-%d %H:%M:%S\")\n",
    "extraction.convert_df_time_column_to_format(df_rad_notes, 'charttime', format=\"%Y-%m-%d %H:%M:%S\")"
   ]
  },
  {
   "cell_type": "code",
   "execution_count": 6,
   "metadata": {
    "pycharm": {
     "is_executing": true,
     "name": "#%%\n"
    }
   },
   "outputs": [
    {
     "name": "stdout",
     "output_type": "stream",
     "text": [
      "[########################################] | 100% Completed | 731.25 ms\n",
      "[########################################] | 100% Completed | 160.89 s\n",
      "[########################################] | 100% Completed | 78.54 s\n",
      "[########################################] | 100% Completed | 957.37 ms\n",
      "[########################################] | 100% Completed | 544.38 s\n"
     ]
    }
   ],
   "source": [
    "# Filter data to get only useful information\n",
    "df_admissions = df_admissions[['subject_id', 'admittime']].compute().sort_values(by=['subject_id', 'admittime'])\n",
    "df_chart_events = df_chart_events[['subject_id', 'charttime', 'itemid', 'valuenum']].compute()\n",
    "df_lab_events = df_lab_events[['subject_id', 'charttime', 'itemid', 'valuenum']].compute()\n",
    "df_procedure_events = df_procedure_events[['subject_id', 'starttime', 'itemid', 'value']].compute()\n",
    "df_rad_notes = df_rad_notes[['subject_id', 'charttime', 'text']].compute()"
   ]
  },
  {
   "cell_type": "markdown",
   "metadata": {
    "pycharm": {
     "name": "#%% md\n"
    }
   },
   "source": [
    "## Time Series embeddings extraction"
   ]
  },
  {
   "cell_type": "code",
   "execution_count": 7,
   "metadata": {
    "pycharm": {
     "name": "#%%\n"
    }
   },
   "outputs": [],
   "source": [
    "# Define constants\n",
    "CHARTEVENTS = ['Heart Rate', 'Non Invasive Blood Pressure systolic',\n",
    "               'Non Invasive Blood Pressure diastolic', 'Non Invasive Blood Pressure mean',\n",
    "               'Respiratory Rate', 'O2 saturation pulseoxymetry',\n",
    "               'GCS - Verbal Response', 'GCS - Eye Opening', 'GCS - Motor Response']\n",
    "LABEVENTS = ['Glucose', 'Potassium', 'Sodium', 'Chloride', 'Creatinine',\n",
    "             'Urea Nitrogen', 'Bicarbonate', 'Anion Gap', 'Hemoglobin', 'Hematocrit',\n",
    "             'Magnesium', 'Platelet Count', 'Phosphate', 'White Blood Cells',\n",
    "             'Calcium, Total', 'MCH', 'Red Blood Cells', 'MCHC', 'MCV', 'RDW',\n",
    "             'Neutrophils', 'Vancomycin']\n",
    "PROCEDUREEVENTS = ['Foley Catheter', 'PICC Line', 'Intubation', 'Peritoneal Dialysis',\n",
    "                   'Bronchoscopy', 'EEG', 'Dialysis - CRRT', 'Dialysis Catheter',\n",
    "                   'Chest Tube Removed', 'Hemodialysis']"
   ]
  },
  {
   "cell_type": "code",
   "execution_count": 8,
   "metadata": {
    "pycharm": {
     "name": "#%%\n"
    }
   },
   "outputs": [],
   "source": [
    "# Embeddings extraction\n",
    "df_chart_events_embeddings = extraction.generate_ts_embeddings(df_chart_events, 'subject_id', CHARTEVENTS, 'charttime', 'itemid', 'valuenum', 'chartevent', datetime.timedelta(days=1), df_items, 'itemid', 'label')\n",
    "df_lab_events_embeddings = extraction.generate_ts_embeddings(df_lab_events, 'subject_id', LABEVENTS, 'charttime', 'itemid', 'valuenum', 'labevent', datetime.timedelta(days=1), df_labitems, 'itemid', 'label')\n",
    "df_procedure_events_embeddings = extraction.generate_ts_embeddings(df_procedure_events, 'subject_id', PROCEDUREEVENTS, 'starttime', 'itemid', 'value', 'procedureevent', datetime.timedelta(days=1), df_items, 'itemid', 'label')"
   ]
  },
  {
   "cell_type": "code",
   "execution_count": 9,
   "metadata": {
    "pycharm": {
     "name": "#%%\n"
    }
   },
   "outputs": [],
   "source": [
    "# Save generated embeddings as CSV files\n",
    "df_chart_events_embeddings.to_csv('extracted_features/chart_events.csv', index=False)\n",
    "df_lab_events_embeddings.to_csv('extracted_features/lab_events.csv', index=False)\n",
    "df_procedure_events_embeddings.to_csv('extracted_features/procedure_events.csv', index=False)"
   ]
  },
  {
   "cell_type": "markdown",
   "metadata": {
    "pycharm": {
     "name": "#%% md\n"
    }
   },
   "source": [
    "## Notes embeddings extraction"
   ]
  },
  {
   "cell_type": "code",
   "execution_count": 10,
   "metadata": {
    "pycharm": {
     "name": "#%%\n"
    }
   },
   "outputs": [],
   "source": [
    "# Compute weight for embeddings\n",
    "sr_first_visit = pd.Series(data=[np.NaN for _ in range(len(set(df_admissions['subject_id'])))], index=set(df_admissions['subject_id']))\n",
    "for patient_id in set(df_admissions['subject_id']):\n",
    "    if not df_admissions.loc[df_admissions['subject_id'] == patient_id]['admittime'].empty:\n",
    "        sr_first_visit[patient_id] = df_admissions.loc[df_admissions['subject_id'] == patient_id]['admittime'].iloc[0]\n",
    "sr_first_visit.dropna(inplace=True)"
   ]
  },
  {
   "cell_type": "code",
   "execution_count": 11,
   "metadata": {
    "pycharm": {
     "name": "#%%\n"
    }
   },
   "outputs": [],
   "source": [
    "# Embeddings extraction\n",
    "df_notes_embeddings = extraction.generate_note_embeddings(df_rad_notes, 'subject_id', 'charttime', 'text', sr_first_visit, datetime.timedelta(days=1))"
   ]
  },
  {
   "cell_type": "code",
   "execution_count": 12,
   "metadata": {
    "pycharm": {
     "name": "#%%\n"
    }
   },
   "outputs": [],
   "source": [
    "# Save generated embeddings as CSV files\n",
    "df_notes_embeddings.to_csv('extracted_features/rad_notes.csv', index=False)"
   ]
  }
 ],
 "metadata": {
  "kernelspec": {
   "display_name": "Python 3 (ipykernel)",
   "language": "python",
   "name": "python3"
  },
  "language_info": {
   "codemirror_mode": {
    "name": "ipython",
    "version": 3
   },
   "file_extension": ".py",
   "mimetype": "text/x-python",
   "name": "python",
   "nbconvert_exporter": "python",
   "pygments_lexer": "ipython3",
   "version": "3.8.10"
  }
 },
 "nbformat": 4,
 "nbformat_minor": 1
}